{
  "nbformat": 4,
  "nbformat_minor": 0,
  "metadata": {
    "colab": {
      "provenance": [],
      "authorship_tag": "ABX9TyM04UcLzBYO1qR3VdCF2nqw",
      "include_colab_link": true
    },
    "kernelspec": {
      "name": "python3",
      "display_name": "Python 3"
    },
    "language_info": {
      "name": "python"
    }
  },
  "cells": [
    {
      "cell_type": "markdown",
      "metadata": {
        "id": "view-in-github",
        "colab_type": "text"
      },
      "source": [
        "<a href=\"https://colab.research.google.com/github/meabhaykr/Yes-Bank-Stock-Closing-Price-prediction/blob/main/Yes_Bank_Stock_Closing_Price_prediction.ipynb\" target=\"_parent\"><img src=\"https://colab.research.google.com/assets/colab-badge.svg\" alt=\"Open In Colab\"/></a>"
      ]
    },
    {
      "cell_type": "markdown",
      "source": [
        "# **Project Name**    - Yes Bank Stock Closing Price Prediction\n",
        "\n"
      ],
      "metadata": {
        "id": "gtfZQ-7Az7mk"
      }
    },
    {
      "cell_type": "markdown",
      "source": [
        "##### **Project Type**    - Regression\n",
        "##### **Contribution**    - Individual\n",
        "##### **Name**            - Abhay Kumar\n",
        "##### **Cohort**            - Monaco"
      ],
      "metadata": {
        "id": "JmbHFNYP2P8P"
      }
    },
    {
      "cell_type": "markdown",
      "source": [
        "# **Project Summary -**"
      ],
      "metadata": {
        "id": "h0JkQwSb2SX5"
      }
    },
    {
      "cell_type": "markdown",
      "source": [
        "This project's primary objective was to investigate the repercussions of a fraud case linked to Rana Kapoor on the stock prices of Yes Bank, a prominent player in the Indian financial sector. The dataset employed for this analysis encompassed monthly stock prices of Yes Bank from its inception, including metrics like closing, opening, highest, and lowest stock prices.\n",
        "\n",
        "In pursuit of predicting the stock's closing price, three distinct models were crafted: Ridge Regression, Random Forest, and XGBoost Regressor. These models were meticulously trained using historical stock price data, alongside various features such as the mean values of Open, High, and Low stock prices. Furthermore, temporal trends and patterns were captured by engineering additional features involving lagged variables. The performance of these models was assessed using metrics like Root Mean Squared Error (RMSE), adjusted R-squared, and R-squared (R2) scores. Notably, the XGBoost Regressor exhibited superior performance among the three models, boasting a high R2 score and adjusted R2 score.\n",
        "\n",
        "The core of the analysis was centered around uncovering any discernible patterns or alterations in Yes Bank's stock prices in connection to the Rana Kapoor fraud case. The feature importance rankings supplied by the XGBoost model played a pivotal role in pinpointing the critical factors that exerted influence on the stock price.\n",
        "\n",
        "In summary, this project sought to contribute to a more profound understanding of the intricate relationship between the Rana Kapoor fraud case and the dynamics of Yes Bank's stock prices. Moreover, it aimed to explore the potential of predictive modeling in the realm of finance. The insights and findings derived from this endeavor hold value for a wide array of stakeholders, including investors, financial analysts, and decision-makers. These insights can guide them in making more informed decisions pertaining to investments and business strategies involving Yes Bank's stock."
      ],
      "metadata": {
        "id": "9sjm_BFS2mRF"
      }
    }
  ]
}